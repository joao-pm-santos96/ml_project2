{
 "cells": [
  {
   "cell_type": "markdown",
   "metadata": {},
   "source": [
    "# Project 2 | ML | 2021-22\n",
    "\n",
    "- João Santos, 76912\n",
    "- João Carvalho, 106310"
   ]
  },
  {
   "cell_type": "markdown",
   "metadata": {},
   "source": [
    "## Pneumonia Dataset\n",
    "\n",
    "https://www.kaggle.com/datasets/artyomkolas/3-kinds-of-pneumonia"
   ]
  },
  {
   "cell_type": "code",
   "execution_count": 1,
   "metadata": {},
   "outputs": [
    {
     "name": "stderr",
     "output_type": "stream",
     "text": [
      "2022-06-24 23:29:05.983552: W tensorflow/stream_executor/platform/default/dso_loader.cc:64] Could not load dynamic library 'libcudart.so.11.0'; dlerror: libcudart.so.11.0: cannot open shared object file: No such file or directory; LD_LIBRARY_PATH: :/home/joao/.mujoco/mujoco210/bin\n",
      "2022-06-24 23:29:05.983578: I tensorflow/stream_executor/cuda/cudart_stub.cc:29] Ignore above cudart dlerror if you do not have a GPU set up on your machine.\n"
     ]
    }
   ],
   "source": [
    "# Imports\n",
    "import datetime\n",
    "import os\n",
    "import numpy as np\n",
    "import pandas as pd\n",
    "import tensorflow as tf\n",
    "import matplotlib.pyplot as plt\n",
    "import seaborn as sns\n",
    "\n",
    "from sklearn.utils import shuffle\n",
    "from sklearn.model_selection import train_test_split\n",
    "from sklearn.metrics import classification_report, confusion_matrix, accuracy_score, recall_score\n",
    "\n",
    "from tensorflow.keras import backend as K\n",
    "from tensorflow.keras import layers\n",
    "from tensorflow.keras import Model, Sequential\n",
    "from tensorflow.keras.utils import plot_model\n",
    "from tensorflow.keras.callbacks import ReduceLROnPlateau, ModelCheckpoint, EarlyStopping\n",
    "from tensorflow.keras.preprocessing.image import ImageDataGenerator\n",
    "\n",
    "import tensorflow_addons as tfa"
   ]
  },
  {
   "cell_type": "code",
   "execution_count": 2,
   "metadata": {},
   "outputs": [
    {
     "name": "stdout",
     "output_type": "stream",
     "text": [
      "9208\n",
      "Normal                 3270\n",
      "Pneumonia-Bacterial    3001\n",
      "Pneumonia-Viral        1656\n",
      "COVID-19               1281\n",
      "Name: class, dtype: int64\n"
     ]
    },
    {
     "data": {
      "text/html": [
       "<div>\n",
       "<style scoped>\n",
       "    .dataframe tbody tr th:only-of-type {\n",
       "        vertical-align: middle;\n",
       "    }\n",
       "\n",
       "    .dataframe tbody tr th {\n",
       "        vertical-align: top;\n",
       "    }\n",
       "\n",
       "    .dataframe thead th {\n",
       "        text-align: right;\n",
       "    }\n",
       "</style>\n",
       "<table border=\"1\" class=\"dataframe\">\n",
       "  <thead>\n",
       "    <tr style=\"text-align: right;\">\n",
       "      <th></th>\n",
       "      <th>filename</th>\n",
       "      <th>class</th>\n",
       "    </tr>\n",
       "  </thead>\n",
       "  <tbody>\n",
       "    <tr>\n",
       "      <th>0</th>\n",
       "      <td>./Curated X-Ray Dataset/COVID-19/COVID-19 (109...</td>\n",
       "      <td>COVID-19</td>\n",
       "    </tr>\n",
       "    <tr>\n",
       "      <th>1</th>\n",
       "      <td>./Curated X-Ray Dataset/COVID-19/COVID-19 (118...</td>\n",
       "      <td>COVID-19</td>\n",
       "    </tr>\n",
       "    <tr>\n",
       "      <th>2</th>\n",
       "      <td>./Curated X-Ray Dataset/COVID-19/COVID-19 (244...</td>\n",
       "      <td>COVID-19</td>\n",
       "    </tr>\n",
       "    <tr>\n",
       "      <th>3</th>\n",
       "      <td>./Curated X-Ray Dataset/COVID-19/COVID-19 (521...</td>\n",
       "      <td>COVID-19</td>\n",
       "    </tr>\n",
       "    <tr>\n",
       "      <th>4</th>\n",
       "      <td>./Curated X-Ray Dataset/COVID-19/COVID-19 (135...</td>\n",
       "      <td>COVID-19</td>\n",
       "    </tr>\n",
       "    <tr>\n",
       "      <th>...</th>\n",
       "      <td>...</td>\n",
       "      <td>...</td>\n",
       "    </tr>\n",
       "    <tr>\n",
       "      <th>9203</th>\n",
       "      <td>./Curated X-Ray Dataset/Normal/Normal (3139).jpg</td>\n",
       "      <td>Normal</td>\n",
       "    </tr>\n",
       "    <tr>\n",
       "      <th>9204</th>\n",
       "      <td>./Curated X-Ray Dataset/Normal/Normal (1542).jpg</td>\n",
       "      <td>Normal</td>\n",
       "    </tr>\n",
       "    <tr>\n",
       "      <th>9205</th>\n",
       "      <td>./Curated X-Ray Dataset/Normal/Normal (245).jpg</td>\n",
       "      <td>Normal</td>\n",
       "    </tr>\n",
       "    <tr>\n",
       "      <th>9206</th>\n",
       "      <td>./Curated X-Ray Dataset/Normal/Normal (173).jpg</td>\n",
       "      <td>Normal</td>\n",
       "    </tr>\n",
       "    <tr>\n",
       "      <th>9207</th>\n",
       "      <td>./Curated X-Ray Dataset/Normal/Normal (1212).jpg</td>\n",
       "      <td>Normal</td>\n",
       "    </tr>\n",
       "  </tbody>\n",
       "</table>\n",
       "<p>9208 rows × 2 columns</p>\n",
       "</div>"
      ],
      "text/plain": [
       "                                               filename     class\n",
       "0     ./Curated X-Ray Dataset/COVID-19/COVID-19 (109...  COVID-19\n",
       "1     ./Curated X-Ray Dataset/COVID-19/COVID-19 (118...  COVID-19\n",
       "2     ./Curated X-Ray Dataset/COVID-19/COVID-19 (244...  COVID-19\n",
       "3     ./Curated X-Ray Dataset/COVID-19/COVID-19 (521...  COVID-19\n",
       "4     ./Curated X-Ray Dataset/COVID-19/COVID-19 (135...  COVID-19\n",
       "...                                                 ...       ...\n",
       "9203   ./Curated X-Ray Dataset/Normal/Normal (3139).jpg    Normal\n",
       "9204   ./Curated X-Ray Dataset/Normal/Normal (1542).jpg    Normal\n",
       "9205    ./Curated X-Ray Dataset/Normal/Normal (245).jpg    Normal\n",
       "9206    ./Curated X-Ray Dataset/Normal/Normal (173).jpg    Normal\n",
       "9207   ./Curated X-Ray Dataset/Normal/Normal (1212).jpg    Normal\n",
       "\n",
       "[9208 rows x 2 columns]"
      ]
     },
     "execution_count": 2,
     "metadata": {},
     "output_type": "execute_result"
    }
   ],
   "source": [
    "# Load images do Pandas DataFrame\n",
    "filenames = tf.io.gfile.glob('./Curated X-Ray Dataset/*/*')\n",
    "print(len(filenames))\n",
    "filenames[:3]\n",
    "\n",
    "data = pd.DataFrame()\n",
    "for el in range(0, len(filenames)):\n",
    "    target = filenames[el].split('/')[-2]\n",
    "    path = filenames[el]\n",
    "    \n",
    "    data.loc[el, 'filename'] = path\n",
    "    data.loc[el, 'class'] = target\n",
    "\n",
    "print(data['class'].value_counts(dropna=False))\n",
    "data"
   ]
  },
  {
   "cell_type": "code",
   "execution_count": 3,
   "metadata": {},
   "outputs": [
    {
     "data": {
      "text/html": [
       "<div>\n",
       "<style scoped>\n",
       "    .dataframe tbody tr th:only-of-type {\n",
       "        vertical-align: middle;\n",
       "    }\n",
       "\n",
       "    .dataframe tbody tr th {\n",
       "        vertical-align: top;\n",
       "    }\n",
       "\n",
       "    .dataframe thead th {\n",
       "        text-align: right;\n",
       "    }\n",
       "</style>\n",
       "<table border=\"1\" class=\"dataframe\">\n",
       "  <thead>\n",
       "    <tr style=\"text-align: right;\">\n",
       "      <th></th>\n",
       "      <th>filename</th>\n",
       "      <th>class</th>\n",
       "    </tr>\n",
       "  </thead>\n",
       "  <tbody>\n",
       "    <tr>\n",
       "      <th>0</th>\n",
       "      <td>./Curated X-Ray Dataset/Pneumonia-Viral/Pneumo...</td>\n",
       "      <td>2</td>\n",
       "    </tr>\n",
       "    <tr>\n",
       "      <th>1</th>\n",
       "      <td>./Curated X-Ray Dataset/Normal/Normal (2900).jpg</td>\n",
       "      <td>0</td>\n",
       "    </tr>\n",
       "    <tr>\n",
       "      <th>2</th>\n",
       "      <td>./Curated X-Ray Dataset/COVID-19/COVID-19 (821...</td>\n",
       "      <td>3</td>\n",
       "    </tr>\n",
       "    <tr>\n",
       "      <th>3</th>\n",
       "      <td>./Curated X-Ray Dataset/COVID-19/COVID-19 (795...</td>\n",
       "      <td>3</td>\n",
       "    </tr>\n",
       "    <tr>\n",
       "      <th>4</th>\n",
       "      <td>./Curated X-Ray Dataset/Pneumonia-Bacterial/Pn...</td>\n",
       "      <td>1</td>\n",
       "    </tr>\n",
       "    <tr>\n",
       "      <th>...</th>\n",
       "      <td>...</td>\n",
       "      <td>...</td>\n",
       "    </tr>\n",
       "    <tr>\n",
       "      <th>9203</th>\n",
       "      <td>./Curated X-Ray Dataset/COVID-19/COVID-19 (640...</td>\n",
       "      <td>3</td>\n",
       "    </tr>\n",
       "    <tr>\n",
       "      <th>9204</th>\n",
       "      <td>./Curated X-Ray Dataset/Normal/Normal (771).jpg</td>\n",
       "      <td>0</td>\n",
       "    </tr>\n",
       "    <tr>\n",
       "      <th>9205</th>\n",
       "      <td>./Curated X-Ray Dataset/Pneumonia-Viral/Pneumo...</td>\n",
       "      <td>2</td>\n",
       "    </tr>\n",
       "    <tr>\n",
       "      <th>9206</th>\n",
       "      <td>./Curated X-Ray Dataset/Normal/Normal (1978).jpg</td>\n",
       "      <td>0</td>\n",
       "    </tr>\n",
       "    <tr>\n",
       "      <th>9207</th>\n",
       "      <td>./Curated X-Ray Dataset/Normal/Normal (2635).jpg</td>\n",
       "      <td>0</td>\n",
       "    </tr>\n",
       "  </tbody>\n",
       "</table>\n",
       "<p>9208 rows × 2 columns</p>\n",
       "</div>"
      ],
      "text/plain": [
       "                                               filename class\n",
       "0     ./Curated X-Ray Dataset/Pneumonia-Viral/Pneumo...     2\n",
       "1      ./Curated X-Ray Dataset/Normal/Normal (2900).jpg     0\n",
       "2     ./Curated X-Ray Dataset/COVID-19/COVID-19 (821...     3\n",
       "3     ./Curated X-Ray Dataset/COVID-19/COVID-19 (795...     3\n",
       "4     ./Curated X-Ray Dataset/Pneumonia-Bacterial/Pn...     1\n",
       "...                                                 ...   ...\n",
       "9203  ./Curated X-Ray Dataset/COVID-19/COVID-19 (640...     3\n",
       "9204    ./Curated X-Ray Dataset/Normal/Normal (771).jpg     0\n",
       "9205  ./Curated X-Ray Dataset/Pneumonia-Viral/Pneumo...     2\n",
       "9206   ./Curated X-Ray Dataset/Normal/Normal (1978).jpg     0\n",
       "9207   ./Curated X-Ray Dataset/Normal/Normal (2635).jpg     0\n",
       "\n",
       "[9208 rows x 2 columns]"
      ]
     },
     "execution_count": 3,
     "metadata": {},
     "output_type": "execute_result"
    }
   ],
   "source": [
    "# Shuffle data and make class numerical\n",
    "data = shuffle(data)\n",
    "data.reset_index(drop=True, inplace=True)\n",
    "\n",
    "change = {\n",
    "'Normal' : '0',\n",
    "'Pneumonia-Bacterial': '1',\n",
    "'Pneumonia-Viral' : '2',\n",
    "'COVID-19' : '3',\n",
    "}\n",
    "\n",
    "data['class'] = data['class'].map(change)\n",
    "data"
   ]
  },
  {
   "cell_type": "code",
   "execution_count": 4,
   "metadata": {},
   "outputs": [
    {
     "name": "stdout",
     "output_type": "stream",
     "text": [
      "0    2943\n",
      "1    2701\n",
      "2    1490\n",
      "3    1153\n",
      "Name: class, dtype: int64\n",
      "0    327\n",
      "1    300\n",
      "2    166\n",
      "3    128\n",
      "Name: class, dtype: int64\n",
      "0    2648\n",
      "1    2431\n",
      "2    1341\n",
      "3    1038\n",
      "Name: class, dtype: int64\n",
      "0    295\n",
      "1    270\n",
      "2    149\n",
      "3    115\n",
      "Name: class, dtype: int64\n"
     ]
    }
   ],
   "source": [
    "# Split data into train and validation\n",
    "train_data, val_data = train_test_split(data, test_size=0.1, stratify=data['class'])\n",
    "print(train_data['class'].value_counts(dropna=False))\n",
    "print(val_data['class'].value_counts(dropna=False))\n",
    "\n",
    "# Split train into train and test\n",
    "train_data, test_data = train_test_split(train_data, test_size=0.1, stratify=train_data['class'])\n",
    "print(train_data['class'].value_counts(dropna=False))\n",
    "print(test_data['class'].value_counts(dropna=False))"
   ]
  },
  {
   "cell_type": "code",
   "execution_count": 5,
   "metadata": {},
   "outputs": [],
   "source": [
    "BATCH_SIZE = 4\n",
    "EPOCHS = 15\n",
    "IM_SIZE_W = 200 #300\n",
    "IM_SIZE_H = 200 #400\n",
    "\n",
    "AUTOTUNE = tf.data.experimental.AUTOTUNE\n",
    "\n",
    "# tf.random.set_seed(10)"
   ]
  },
  {
   "cell_type": "code",
   "execution_count": 6,
   "metadata": {},
   "outputs": [
    {
     "name": "stdout",
     "output_type": "stream",
     "text": [
      "Found 7458 validated image filenames belonging to 4 classes.\n",
      "Found 921 validated image filenames belonging to 4 classes.\n",
      "Found 829 validated image filenames belonging to 4 classes.\n"
     ]
    }
   ],
   "source": [
    "# Define ImageDataGenerator\n",
    "datagen = ImageDataGenerator(rescale = 1./255,\n",
    "                            #  zoom_range=0.1, # 0.05\n",
    "                            #  brightness_range=[0.9, 1.0],\n",
    "                            #  height_shift_range=0.05, \n",
    "                            #  width_shift_range=0.05,\n",
    "                            #  rotation_range=10, \n",
    "                            )\n",
    "\n",
    "\n",
    "test_datagen = ImageDataGenerator(rescale = 1./255)\n",
    "\n",
    "train_gen = datagen.flow_from_dataframe(train_data,\n",
    "                                        x_col=\"filename\",\n",
    "                                        y_col=\"class\",\n",
    "                                        target_size=(IM_SIZE_W, IM_SIZE_H),\n",
    "                                        color_mode='grayscale',\n",
    "                                        batch_size=BATCH_SIZE,\n",
    "                                        class_mode='categorical',\n",
    "                                        shuffle=True,\n",
    "                                        num_parallel_calls=AUTOTUNE)\n",
    "\n",
    "val_gen = test_datagen.flow_from_dataframe(val_data,\n",
    "                                        x_col=\"filename\",\n",
    "                                        y_col=\"class\",\n",
    "                                        target_size=(IM_SIZE_W, IM_SIZE_H),\n",
    "                                        color_mode='grayscale',\n",
    "                                        batch_size=BATCH_SIZE,\n",
    "                                        class_mode='categorical',\n",
    "                                        shuffle=False,\n",
    "                                        num_parallel_calls=AUTOTUNE)\n",
    "\n",
    "test_gen = test_datagen.flow_from_dataframe(test_data,\n",
    "                                        x_col=\"filename\",\n",
    "                                        y_col=\"class\",\n",
    "                                        target_size=(IM_SIZE_W, IM_SIZE_H),\n",
    "                                        color_mode='grayscale',\n",
    "                                        batch_size=BATCH_SIZE,\n",
    "                                        class_mode='categorical',\n",
    "                                        shuffle=False,\n",
    "                                        num_parallel_calls=AUTOTUNE)"
   ]
  },
  {
   "cell_type": "code",
   "execution_count": 7,
   "metadata": {},
   "outputs": [
    {
     "name": "stdout",
     "output_type": "stream",
     "text": [
      "Model: \"model\"\n",
      "_________________________________________________________________\n",
      " Layer (type)                Output Shape              Param #   \n",
      "=================================================================\n",
      " input (InputLayer)          [(None, 200, 200, 1)]     0         \n",
      "                                                                 \n",
      " conv2d_1 (Conv2D)           (None, 200, 200, 128)     1280      \n",
      "                                                                 \n",
      " maxpool2d_1 (MaxPooling2D)  (None, 100, 100, 128)     0         \n",
      "                                                                 \n",
      " dropout_1 (Dropout)         (None, 100, 100, 128)     0         \n",
      "                                                                 \n",
      " conv2d_2 (Conv2D)           (None, 100, 100, 128)     147584    \n",
      "                                                                 \n",
      " maxpool2d_2 (MaxPooling2D)  (None, 50, 50, 128)       0         \n",
      "                                                                 \n",
      " dropout_2 (Dropout)         (None, 50, 50, 128)       0         \n",
      "                                                                 \n",
      " conv2d_3 (Conv2D)           (None, 50, 50, 128)       147584    \n"
     ]
    },
    {
     "name": "stderr",
     "output_type": "stream",
     "text": [
      "2022-06-24 23:29:13.094713: W tensorflow/stream_executor/platform/default/dso_loader.cc:64] Could not load dynamic library 'libcuda.so.1'; dlerror: libcuda.so.1: cannot open shared object file: No such file or directory; LD_LIBRARY_PATH: :/home/joao/.mujoco/mujoco210/bin\n",
      "2022-06-24 23:29:13.094743: W tensorflow/stream_executor/cuda/cuda_driver.cc:269] failed call to cuInit: UNKNOWN ERROR (303)\n",
      "2022-06-24 23:29:13.094763: I tensorflow/stream_executor/cuda/cuda_diagnostics.cc:156] kernel driver does not appear to be running on this host (joao-Lenovo): /proc/driver/nvidia/version does not exist\n",
      "2022-06-24 23:29:13.094990: I tensorflow/core/platform/cpu_feature_guard.cc:193] This TensorFlow binary is optimized with oneAPI Deep Neural Network Library (oneDNN) to use the following CPU instructions in performance-critical operations:  AVX2 FMA\n",
      "To enable them in other operations, rebuild TensorFlow with the appropriate compiler flags.\n"
     ]
    },
    {
     "name": "stdout",
     "output_type": "stream",
     "text": [
      "                                                                 \n",
      " maxpool2d_3 (MaxPooling2D)  (None, 25, 25, 128)       0         \n",
      "                                                                 \n",
      " dropout_3 (Dropout)         (None, 25, 25, 128)       0         \n",
      "                                                                 \n",
      " conv2d_4 (Conv2D)           (None, 25, 25, 256)       295168    \n",
      "                                                                 \n",
      " maxpool2d_4 (MaxPooling2D)  (None, 12, 12, 256)       0         \n",
      "                                                                 \n",
      " dropout_4 (Dropout)         (None, 12, 12, 256)       0         \n",
      "                                                                 \n",
      " conv2d_5 (Conv2D)           (None, 12, 12, 256)       590080    \n",
      "                                                                 \n",
      " maxpool2d_5 (MaxPooling2D)  (None, 6, 6, 256)         0         \n",
      "                                                                 \n",
      " dropout_5 (Dropout)         (None, 6, 6, 256)         0         \n",
      "                                                                 \n",
      " conv2d_6 (Conv2D)           (None, 6, 6, 256)         590080    \n",
      "                                                                 \n",
      " maxpool2d_6 (MaxPooling2D)  (None, 3, 3, 256)         0         \n",
      "                                                                 \n",
      " dropout_6 (Dropout)         (None, 3, 3, 256)         0         \n",
      "                                                                 \n",
      " conv2d_7 (Conv2D)           (None, 3, 3, 256)         590080    \n",
      "                                                                 \n",
      " maxpool2d_7 (MaxPooling2D)  (None, 1, 1, 256)         0         \n",
      "                                                                 \n",
      " dropout_7 (Dropout)         (None, 1, 1, 256)         0         \n",
      "                                                                 \n",
      " global_average_pooling2d (G  (None, 256)              0         \n",
      " lobalAveragePooling2D)                                          \n",
      "                                                                 \n",
      " flatten (Flatten)           (None, 256)               0         \n",
      "                                                                 \n",
      " dense (Dense)               (None, 1024)              263168    \n",
      "                                                                 \n",
      " dropout_head_2 (Dropout)    (None, 1024)              0         \n",
      "                                                                 \n",
      " dense_1 (Dense)             (None, 128)               131200    \n",
      "                                                                 \n",
      " output (Dense)              (None, 4)                 516       \n",
      "                                                                 \n",
      "=================================================================\n",
      "Total params: 2,756,740\n",
      "Trainable params: 2,756,740\n",
      "Non-trainable params: 0\n",
      "_________________________________________________________________\n"
     ]
    }
   ],
   "source": [
    "# Define CNN model\n",
    "def create_model():\n",
    "    \n",
    "    # Model input\n",
    "    input_layer = layers.Input(shape=(IM_SIZE_W, IM_SIZE_H, 1), name='input')  \n",
    "    \n",
    "    # First block\n",
    "    x = layers.Conv2D(filters=128, kernel_size=3, \n",
    "                        activation='relu', padding='same', \n",
    "                        name='conv2d_1')(input_layer)\n",
    "    x = layers.MaxPool2D(pool_size=2, name='maxpool2d_1')(x)\n",
    "    x = layers.Dropout(0.1, name='dropout_1')(x)\n",
    "\n",
    "    # Second block\n",
    "    x = layers.Conv2D(filters=128, kernel_size=3, \n",
    "                        activation='relu', padding='same', \n",
    "                        name='conv2d_2')(x)\n",
    "    x = layers.MaxPool2D(pool_size=2, name='maxpool2d_2')(x)\n",
    "    x = layers.Dropout(0.1, name='dropout_2')(x)\n",
    "\n",
    "    # Third block\n",
    "    x = layers.Conv2D(filters=128, kernel_size=3, \n",
    "                        activation='relu', padding='same', \n",
    "                        name='conv2d_3')(x)\n",
    "    x = layers.MaxPool2D(pool_size=2, name='maxpool2d_3')(x)\n",
    "    x = layers.Dropout(0.1, name='dropout_3')(x)\n",
    "\n",
    "    # Fourth block\n",
    "    x = layers.Conv2D(filters=256, kernel_size=3, \n",
    "                        activation='relu', padding='same', \n",
    "                        name='conv2d_4')(x)\n",
    "    x = layers.MaxPool2D(pool_size=2, name='maxpool2d_4')(x)\n",
    "    x = layers.Dropout(0.1, name='dropout_4')(x)\n",
    "\n",
    "    # Fifth block\n",
    "    x = layers.Conv2D(filters=256, kernel_size=3, \n",
    "                        activation='relu', padding='same', \n",
    "                        name='conv2d_5')(x)\n",
    "    x = layers.MaxPool2D(pool_size=2, name='maxpool2d_5')(x)\n",
    "    x = layers.Dropout(0.1, name='dropout_5')(x)\n",
    "\n",
    "    # Sixth block\n",
    "    x = layers.Conv2D(filters=256, kernel_size=3, \n",
    "                        activation='relu', padding='same', \n",
    "                        name='conv2d_6')(x)\n",
    "    x = layers.MaxPool2D(pool_size=2, name='maxpool2d_6')(x)\n",
    "    x = layers.Dropout(0.1, name='dropout_6')(x)\n",
    "\n",
    "    # Seventh block\n",
    "    x = layers.Conv2D(filters=256, kernel_size=3, \n",
    "                        activation='relu', padding='same', \n",
    "                        name='conv2d_7')(x)\n",
    "    x = layers.MaxPool2D(pool_size=2, name='maxpool2d_7')(x)\n",
    "    x = layers.Dropout(0.1, name='dropout_7')(x)\n",
    "    \n",
    "    # GlobalAveragePooling\n",
    "    x = layers.GlobalAveragePooling2D(name='global_average_pooling2d')(x)   \n",
    "    x = layers.Flatten()(x)\n",
    "    \n",
    "    # Head\n",
    "    x = layers.Dense(1024,activation='relu')(x)\n",
    "    x = layers.Dropout(0.1, name='dropout_head_2')(x)\n",
    "    x = layers.Dense(128,activation='relu')(x)\n",
    "    \n",
    "    # Output\n",
    "    output = layers.Dense(units=4, \n",
    "                            activation='softmax', \n",
    "                            name='output')(x)\n",
    "\n",
    "\n",
    "    model = Model(input_layer, output)\n",
    "        \n",
    "    F_1_macro = tfa.metrics.f_scores.F1Score(num_classes=4, average=\"macro\", name='f1_macro') \n",
    "    \n",
    "    model.compile(optimizer='adam', \n",
    "                    loss='categorical_crossentropy', \n",
    "                    metrics=F_1_macro)\n",
    "\n",
    "    return model\n",
    "\n",
    "model = create_model()\n",
    "model.summary()"
   ]
  },
  {
   "cell_type": "code",
   "execution_count": 8,
   "metadata": {},
   "outputs": [
    {
     "name": "stdout",
     "output_type": "stream",
     "text": [
      "Epoch 1/15\n",
      "1864/1864 [==============================] - 2422s 1s/step - loss: 1.3236 - f1_macro: 0.2003 - val_loss: 1.3179 - val_f1_macro: 0.1308 - lr: 0.0010\n",
      "Epoch 2/15\n",
      "1864/1864 [==============================] - 2411s 1s/step - loss: 1.3189 - f1_macro: 0.1658 - val_loss: 1.3172 - val_f1_macro: 0.1230 - lr: 0.0010\n",
      "Epoch 3/15\n",
      "1864/1864 [==============================] - 2405s 1s/step - loss: 1.3185 - f1_macro: 0.1910 - val_loss: 1.3249 - val_f1_macro: 0.1308 - lr: 0.0010\n",
      "Epoch 4/15\n",
      "1864/1864 [==============================] - 2400s 1s/step - loss: 1.3184 - f1_macro: 0.1500 - val_loss: 1.3169 - val_f1_macro: 0.1308 - lr: 0.0010\n",
      "Epoch 5/15\n",
      "1864/1864 [==============================] - 2411s 1s/step - loss: 1.3179 - f1_macro: 0.1586 - val_loss: 1.3166 - val_f1_macro: 0.1308 - lr: 0.0010\n",
      "Epoch 6/15\n",
      "1864/1864 [==============================] - 2406s 1s/step - loss: 1.3175 - f1_macro: 0.1464 - val_loss: 1.3166 - val_f1_macro: 0.1308 - lr: 0.0010\n",
      "Epoch 7/15\n",
      "1864/1864 [==============================] - 2408s 1s/step - loss: 1.3173 - f1_macro: 0.1653 - val_loss: 1.3166 - val_f1_macro: 0.1308 - lr: 0.0010\n",
      "Epoch 8/15\n",
      "1864/1864 [==============================] - 2410s 1s/step - loss: 1.3171 - f1_macro: 0.1569 - val_loss: 1.3165 - val_f1_macro: 0.1308 - lr: 0.0010\n",
      "Epoch 9/15\n",
      "1864/1864 [==============================] - 2412s 1s/step - loss: 1.3174 - f1_macro: 0.1310 - val_loss: 1.3167 - val_f1_macro: 0.1308 - lr: 0.0010\n",
      "Epoch 10/15\n",
      "1864/1864 [==============================] - 2407s 1s/step - loss: 1.3171 - f1_macro: 0.1317 - val_loss: 1.3165 - val_f1_macro: 0.1308 - lr: 0.0010\n",
      "Epoch 11/15\n",
      "1864/1864 [==============================] - 2411s 1s/step - loss: 1.3168 - f1_macro: 0.1310 - val_loss: 1.3171 - val_f1_macro: 0.1308 - lr: 0.0010\n",
      "Epoch 12/15\n",
      "1864/1864 [==============================] - ETA: 0s - loss: 1.3167 - f1_macro: 0.1448\n",
      "Epoch 12: ReduceLROnPlateau reducing learning rate to 0.00010000000474974513.\n",
      "1864/1864 [==============================] - 2411s 1s/step - loss: 1.3167 - f1_macro: 0.1448 - val_loss: 1.3168 - val_f1_macro: 0.1308 - lr: 0.0010\n",
      "Epoch 13/15\n",
      "1864/1864 [==============================] - 2417s 1s/step - loss: 1.3164 - f1_macro: 0.1310 - val_loss: 1.3165 - val_f1_macro: 0.1308 - lr: 1.0000e-04\n",
      "Epoch 14/15\n",
      "1864/1864 [==============================] - 2489s 1s/step - loss: 1.3162 - f1_macro: 0.1311 - val_loss: 1.3165 - val_f1_macro: 0.1308 - lr: 1.0000e-04\n",
      "Epoch 15/15\n",
      "1864/1864 [==============================] - 2582s 1s/step - loss: 1.3161 - f1_macro: 0.1310 - val_loss: 1.3164 - val_f1_macro: 0.1308 - lr: 1.0000e-04\n",
      "\n",
      "Required time:  10:07:33.339308\n",
      "\n"
     ]
    }
   ],
   "source": [
    "# Training\n",
    "init_time = datetime.datetime.now()\n",
    "\n",
    "\n",
    "train_steps = train_gen.samples // BATCH_SIZE\n",
    "valid_steps = val_gen.samples // BATCH_SIZE\n",
    "\n",
    "early_stopping = EarlyStopping(monitor=\"val_loss\", patience=8, mode=\"min\")\n",
    "checkpoint = ModelCheckpoint(\"loss-{val_loss:.4f}.h5\", monitor=\"val_loss\", verbose=0, \n",
    "                             save_best_only=True, save_weights_only=True, mode=\"min\")\n",
    "learning_rate_reduction = ReduceLROnPlateau(monitor=\"val_loss\", factor=0.1, patience=4, \n",
    "                                            min_lr=1e-7, verbose=1, mode=\"min\")\n",
    "\n",
    "\n",
    "history = model.fit(\n",
    "    train_gen,\n",
    "    validation_data=val_gen,\n",
    "    batch_size=BATCH_SIZE,\n",
    "    epochs=EPOCHS,\n",
    "    steps_per_epoch=train_steps,\n",
    "    validation_steps=valid_steps,\n",
    "    callbacks=[\n",
    "                checkpoint, \n",
    "                early_stopping, \n",
    "                learning_rate_reduction],\n",
    "    verbose=1,\n",
    "    )\n",
    "\n",
    "requared_time = datetime.datetime.now() - init_time\n",
    "print(f'\\nRequired time:  {str(requared_time)}\\n')"
   ]
  },
  {
   "cell_type": "code",
   "execution_count": 9,
   "metadata": {},
   "outputs": [
    {
     "name": "stdout",
     "output_type": "stream",
     "text": [
      "Minimum Validation Loss: 1.3164\n"
     ]
    },
    {
     "data": {
      "image/png": "[encoded data removed]",
      "text/plain": [
       "<Figure size 432x288 with 1 Axes>"
      ]
     },
     "metadata": {
      "needs_background": "light"
     },
     "output_type": "display_data"
    }
   ],
   "source": [
    "history_df = pd.DataFrame(history.history)\n",
    "history_df.loc[0:, ['loss', 'val_loss']].plot()\n",
    "print(\"Minimum Validation Loss: {:0.4f}\".format(history_df['val_loss'].min()));"
   ]
  },
  {
   "cell_type": "code",
   "execution_count": 10,
   "metadata": {},
   "outputs": [
    {
     "name": "stdout",
     "output_type": "stream",
     "text": [
      "207/207 [==============================] - 84s 405ms/step - loss: 1.3158 - f1_macro: 0.1313\n",
      "\n",
      "accuracy: 0.13134461641311646 loss:  1.3157798051834106\n"
     ]
    }
   ],
   "source": [
    "test_steps = test_gen.samples // BATCH_SIZE\n",
    "\n",
    "test_loss, test_acc = model.evaluate(test_gen, steps=test_steps)\n",
    "print('\\naccuracy:', test_acc, 'loss: ',test_loss)"
   ]
  },
  {
   "cell_type": "code",
   "execution_count": 11,
   "metadata": {},
   "outputs": [
    {
     "name": "stdout",
     "output_type": "stream",
     "text": [
      "207/207 [==============================] - 89s 429ms/step\n"
     ]
    },
    {
     "data": {
      "text/plain": [
       "array([0, 0, 0, 0, 0, 0, 0, 0, 0, 0, 0, 0, 0, 0, 0, 0, 0, 0, 0, 0])"
      ]
     },
     "execution_count": 11,
     "metadata": {},
     "output_type": "execute_result"
    }
   ],
   "source": [
    "predict = model.predict(test_gen, steps=test_steps)\n",
    "y_hat = np.argmax(predict, axis=1)\n",
    "y_hat[:20]"
   ]
  },
  {
   "cell_type": "code",
   "execution_count": 12,
   "metadata": {},
   "outputs": [
    {
     "data": {
      "text/plain": [
       "array([1, 0, 0, 2, 0, 2, 2, 0, 1, 0, 0, 0, 0, 0, 0, 3, 0, 0, 2, 3])"
      ]
     },
     "execution_count": 12,
     "metadata": {},
     "output_type": "execute_result"
    }
   ],
   "source": [
    "test_labels_df = pd.DataFrame()\n",
    "test_labels_df[['class']] = test_data[['class']]\n",
    "\n",
    "change = {\n",
    "'0' : 0,\n",
    "'1' : 1,\n",
    "'2' : 2,\n",
    "'3' : 3,\n",
    "}\n",
    "\n",
    "test_labels_df['class'] = test_labels_df['class'].map(change)\n",
    "test_labels_df = test_labels_df[ : test_steps*BATCH_SIZE]\n",
    "\n",
    "\n",
    "y_test = np.array(test_labels_df['class'])\n",
    "y_test[:20]"
   ]
  },
  {
   "cell_type": "markdown",
   "metadata": {},
   "source": [
    "## Classification Report"
   ]
  },
  {
   "cell_type": "code",
   "execution_count": 13,
   "metadata": {},
   "outputs": [
    {
     "name": "stdout",
     "output_type": "stream",
     "text": [
      "              precision    recall  f1-score   support\n",
      "\n",
      "           0       0.36      1.00      0.53       295\n",
      "           1       0.00      0.00      0.00       269\n",
      "           2       0.00      0.00      0.00       149\n",
      "           3       0.00      0.00      0.00       115\n",
      "\n",
      "    accuracy                           0.36       828\n",
      "   macro avg       0.09      0.25      0.13       828\n",
      "weighted avg       0.13      0.36      0.19       828\n",
      " \n",
      "\n"
     ]
    },
    {
     "name": "stderr",
     "output_type": "stream",
     "text": [
      "/home/joao/anaconda3/lib/python3.9/site-packages/sklearn/metrics/_classification.py:1248: UndefinedMetricWarning: Precision and F-score are ill-defined and being set to 0.0 in labels with no predicted samples. Use `zero_division` parameter to control this behavior.\n",
      "  _warn_prf(average, modifier, msg_start, len(result))\n",
      "/home/joao/anaconda3/lib/python3.9/site-packages/sklearn/metrics/_classification.py:1248: UndefinedMetricWarning: Precision and F-score are ill-defined and being set to 0.0 in labels with no predicted samples. Use `zero_division` parameter to control this behavior.\n",
      "  _warn_prf(average, modifier, msg_start, len(result))\n",
      "/home/joao/anaconda3/lib/python3.9/site-packages/sklearn/metrics/_classification.py:1248: UndefinedMetricWarning: Precision and F-score are ill-defined and being set to 0.0 in labels with no predicted samples. Use `zero_division` parameter to control this behavior.\n",
      "  _warn_prf(average, modifier, msg_start, len(result))\n"
     ]
    },
    {
     "data": {
      "text/plain": [
       "<AxesSubplot:>"
      ]
     },
     "execution_count": 13,
     "metadata": {},
     "output_type": "execute_result"
    },
    {
     "data": {
      "image/png": "[encoded data removed]",
      "text/plain": [
       "<Figure size 432x288 with 1 Axes>"
      ]
     },
     "metadata": {
      "needs_background": "light"
     },
     "output_type": "display_data"
    }
   ],
   "source": [
    "print(classification_report(y_test, y_hat), '\\n')\n",
    "cm = confusion_matrix(y_test, y_hat)\n",
    "sns.heatmap(cm, annot=True, cmap=\"Blues\", fmt='.0f', cbar=False)"
   ]
  },
  {
   "cell_type": "code",
   "execution_count": 16,
   "metadata": {},
   "outputs": [
    {
     "name": "stderr",
     "output_type": "stream",
     "text": [
      "WARNING:absl:Found untraced functions such as _jit_compiled_convolution_op, _jit_compiled_convolution_op, _jit_compiled_convolution_op, _jit_compiled_convolution_op, _jit_compiled_convolution_op while saving (showing 5 of 7). These functions will not be directly callable after loading.\n"
     ]
    },
    {
     "name": "stdout",
     "output_type": "stream",
     "text": [
      "INFO:tensorflow:Assets written to: ./model/assets\n"
     ]
    },
    {
     "name": "stderr",
     "output_type": "stream",
     "text": [
      "INFO:tensorflow:Assets written to: ./model/assets\n"
     ]
    }
   ],
   "source": [
    "model.save('./model/')"
   ]
  },
  {
   "cell_type": "code",
   "execution_count": null,
   "metadata": {},
   "outputs": [],
   "source": []
  }
 ],
 "metadata": {
  "kernelspec": {
   "display_name": "Python 3 (ipykernel)",
   "language": "python",
   "name": "python3"
  },
  "language_info": {
   "codemirror_mode": {
    "name": "ipython",
    "version": 3
   },
   "file_extension": ".py",
   "mimetype": "text/x-python",
   "name": "python",
   "nbconvert_exporter": "python",
   "pygments_lexer": "ipython3",
   "version": "3.9.7"
  },
  "vscode": {
   "interpreter": {
    "hash": "46b936ff1622c326d442b837a2b71fa5dbcf20e52e3a75b5ec5a0d8bfc7f438d"
   }
  }
 },
 "nbformat": 4,
 "nbformat_minor": 2
}
