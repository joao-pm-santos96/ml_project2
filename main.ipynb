{
 "cells": [
  {
   "cell_type": "markdown",
   "metadata": {},
   "source": [
    "# Project 2 | ML | 2021-22\n",
    "\n",
    "- João Santos, 76912\n",
    "- João Carvalho, 106310"
   ]
  },
  {
   "cell_type": "markdown",
   "metadata": {},
   "source": [
    "## Pneumonia Dataset\n",
    "\n",
    "https://www.kaggle.com/datasets/artyomkolas/3-kinds-of-pneumonia"
   ]
  },
  {
   "cell_type": "code",
   "execution_count": 1,
   "metadata": {},
   "outputs": [
    {
     "name": "stderr",
     "output_type": "stream",
     "text": [
      "2022-06-25 15:36:24.388679: W tensorflow/stream_executor/platform/default/dso_loader.cc:64] Could not load dynamic library 'libcudart.so.11.0'; dlerror: libcudart.so.11.0: cannot open shared object file: No such file or directory; LD_LIBRARY_PATH: :/home/joao/.mujoco/mujoco210/bin\n",
      "2022-06-25 15:36:24.388733: I tensorflow/stream_executor/cuda/cudart_stub.cc:29] Ignore above cudart dlerror if you do not have a GPU set up on your machine.\n"
     ]
    },
    {
     "name": "stdout",
     "output_type": "stream",
     "text": [
      "2.9.1\n"
     ]
    }
   ],
   "source": [
    "# Imports\n",
    "import datetime\n",
    "import os\n",
    "import numpy as np\n",
    "import pandas as pd\n",
    "import tensorflow as tf\n",
    "import matplotlib.pyplot as plt\n",
    "import seaborn as sns\n",
    "\n",
    "print(tf.__version__)\n",
    "\n",
    "from sklearn.utils import shuffle\n",
    "from sklearn.model_selection import train_test_split\n",
    "from sklearn.metrics import classification_report, confusion_matrix, accuracy_score, recall_score\n",
    "\n",
    "from tensorflow.keras import backend as K\n",
    "from tensorflow.keras import layers\n",
    "from tensorflow.keras import Model, Sequential\n",
    "from tensorflow.keras.utils import plot_model\n",
    "from tensorflow.keras.callbacks import ReduceLROnPlateau, ModelCheckpoint, EarlyStopping\n",
    "from tensorflow.keras.preprocessing.image import ImageDataGenerator\n",
    "\n",
    "import tensorflow_addons as tfa"
   ]
  },
  {
   "cell_type": "code",
   "execution_count": null,
   "metadata": {},
   "outputs": [
    {
     "name": "stdout",
     "output_type": "stream",
     "text": [
      "9208\n"
     ]
    }
   ],
   "source": [
    "# Load images do Pandas DataFrame\n",
    "filenames = tf.io.gfile.glob('./Curated X-Ray Dataset/*/*')\n",
    "print(len(filenames))\n",
    "filenames[:3]\n",
    "\n",
    "data = pd.DataFrame()\n",
    "for el in range(0, len(filenames)):\n",
    "    target = filenames[el].split('/')[-2]\n",
    "    path = filenames[el]\n",
    "    \n",
    "    data.loc[el, 'filename'] = path\n",
    "    data.loc[el, 'class'] = target\n",
    "\n",
    "print(data['class'].value_counts(dropna=False))\n",
    "data"
   ]
  },
  {
   "cell_type": "code",
   "execution_count": null,
   "metadata": {},
   "outputs": [],
   "source": [
    "# Shuffle data and make class numerical\n",
    "data = shuffle(data)\n",
    "data.reset_index(drop=True, inplace=True)\n",
    "\n",
    "change = {\n",
    "'Normal' : '0',\n",
    "'Pneumonia-Bacterial': '1',\n",
    "'Pneumonia-Viral' : '2',\n",
    "'COVID-19' : '3',\n",
    "}\n",
    "\n",
    "data['class'] = data['class'].map(change)\n",
    "data"
   ]
  },
  {
   "cell_type": "code",
   "execution_count": null,
   "metadata": {},
   "outputs": [],
   "source": [
    "# Split data into train and validation\n",
    "train_data, val_data = train_test_split(data, test_size=0.1, stratify=data['class'])\n",
    "print(train_data['class'].value_counts(dropna=False))\n",
    "print(val_data['class'].value_counts(dropna=False))\n",
    "\n",
    "# Split train into train and test\n",
    "train_data, test_data = train_test_split(train_data, test_size=0.1, stratify=train_data['class'])\n",
    "print(train_data['class'].value_counts(dropna=False))\n",
    "print(test_data['class'].value_counts(dropna=False))"
   ]
  },
  {
   "cell_type": "code",
   "execution_count": null,
   "metadata": {},
   "outputs": [],
   "source": [
    "BATCH_SIZE = 2\n",
    "EPOCHS = 30\n",
    "IM_SIZE_W = 200 #300\n",
    "IM_SIZE_H = 200 #400\n",
    "\n",
    "AUTOTUNE = tf.data.experimental.AUTOTUNE\n",
    "\n",
    "# tf.random.set_seed(10)"
   ]
  },
  {
   "cell_type": "code",
   "execution_count": null,
   "metadata": {},
   "outputs": [],
   "source": [
    "# Define ImageDataGenerator\n",
    "datagen = ImageDataGenerator(rescale = 1./255,\n",
    "                            zoom_range=0.1, # 0.05\n",
    "                            brightness_range=[0.9, 1.0],\n",
    "                            height_shift_range=0.05, \n",
    "                            width_shift_range=0.05,\n",
    "                            rotation_range=10, \n",
    "                            )\n",
    "\n",
    "\n",
    "test_datagen = ImageDataGenerator(rescale = 1./255)\n",
    "\n",
    "train_gen = datagen.flow_from_dataframe(train_data,\n",
    "                                        x_col=\"filename\",\n",
    "                                        y_col=\"class\",\n",
    "                                        target_size=(IM_SIZE_W, IM_SIZE_H),\n",
    "                                        color_mode='grayscale',\n",
    "                                        batch_size=BATCH_SIZE,\n",
    "                                        class_mode='categorical',\n",
    "                                        shuffle=True,\n",
    "                                        num_parallel_calls=AUTOTUNE)\n",
    "\n",
    "val_gen = test_datagen.flow_from_dataframe(val_data,\n",
    "                                        x_col=\"filename\",\n",
    "                                        y_col=\"class\",\n",
    "                                        target_size=(IM_SIZE_W, IM_SIZE_H),\n",
    "                                        color_mode='grayscale',\n",
    "                                        batch_size=BATCH_SIZE,\n",
    "                                        class_mode='categorical',\n",
    "                                        shuffle=False,\n",
    "                                        num_parallel_calls=AUTOTUNE)\n",
    "\n",
    "test_gen = test_datagen.flow_from_dataframe(test_data,\n",
    "                                        x_col=\"filename\",\n",
    "                                        y_col=\"class\",\n",
    "                                        target_size=(IM_SIZE_W, IM_SIZE_H),\n",
    "                                        color_mode='grayscale',\n",
    "                                        batch_size=BATCH_SIZE,\n",
    "                                        class_mode='categorical',\n",
    "                                        shuffle=False,\n",
    "                                        num_parallel_calls=AUTOTUNE)"
   ]
  },
  {
   "cell_type": "code",
   "execution_count": null,
   "metadata": {},
   "outputs": [],
   "source": [
    "# Define CNN model\n",
    "def create_model():\n",
    "    \n",
    "    # Model input\n",
    "    input_layer = layers.Input(shape=(IM_SIZE_W, IM_SIZE_H, 1), name='input')  \n",
    "    \n",
    "    # First block\n",
    "    x = layers.Conv2D(filters=128, kernel_size=3, \n",
    "                        activation='relu', padding='same', \n",
    "                        name='conv2d_1')(input_layer)\n",
    "    x = layers.MaxPool2D(pool_size=2, name='maxpool2d_1')(x)\n",
    "    x = layers.Dropout(0.1, name='dropout_1')(x)\n",
    "\n",
    "    # Second block\n",
    "    x = layers.Conv2D(filters=128, kernel_size=3, \n",
    "                        activation='relu', padding='same', \n",
    "                        name='conv2d_2')(x)\n",
    "    x = layers.MaxPool2D(pool_size=2, name='maxpool2d_2')(x)\n",
    "    x = layers.Dropout(0.1, name='dropout_2')(x)\n",
    "\n",
    "    # Third block\n",
    "    x = layers.Conv2D(filters=128, kernel_size=3, \n",
    "                        activation='relu', padding='same', \n",
    "                        name='conv2d_3')(x)\n",
    "    x = layers.MaxPool2D(pool_size=2, name='maxpool2d_3')(x)\n",
    "    x = layers.Dropout(0.1, name='dropout_3')(x)\n",
    "\n",
    "    # Fourth block\n",
    "    x = layers.Conv2D(filters=256, kernel_size=3, \n",
    "                        activation='relu', padding='same', \n",
    "                        name='conv2d_4')(x)\n",
    "    x = layers.MaxPool2D(pool_size=2, name='maxpool2d_4')(x)\n",
    "    x = layers.Dropout(0.1, name='dropout_4')(x)\n",
    "\n",
    "    # Fifth block\n",
    "    x = layers.Conv2D(filters=256, kernel_size=3, \n",
    "                        activation='relu', padding='same', \n",
    "                        name='conv2d_5')(x)\n",
    "    x = layers.MaxPool2D(pool_size=2, name='maxpool2d_5')(x)\n",
    "    x = layers.Dropout(0.1, name='dropout_5')(x)\n",
    "\n",
    "    # Sixth block\n",
    "    x = layers.Conv2D(filters=512, kernel_size=3, \n",
    "                        activation='relu', padding='same', \n",
    "                        name='conv2d_6')(x)\n",
    "    x = layers.MaxPool2D(pool_size=2, name='maxpool2d_6')(x)\n",
    "    x = layers.Dropout(0.1, name='dropout_6')(x)\n",
    "\n",
    "    # Seventh block\n",
    "    x = layers.Conv2D(filters=512, kernel_size=3, \n",
    "                        activation='relu', padding='same', \n",
    "                        name='conv2d_7')(x)\n",
    "    x = layers.MaxPool2D(pool_size=2, name='maxpool2d_7')(x)\n",
    "    x = layers.Dropout(0.1, name='dropout_7')(x)\n",
    "    \n",
    "    # GlobalAveragePooling\n",
    "    x = layers.GlobalAveragePooling2D(name='global_average_pooling2d')(x)   \n",
    "    x = layers.Flatten()(x)\n",
    "    \n",
    "    # Head\n",
    "    x = layers.Dense(1024,activation='relu')(x)\n",
    "    x = layers.Dropout(0.1, name='dropout_head_2')(x)\n",
    "    x = layers.Dense(128,activation='relu')(x)\n",
    "    \n",
    "    # Output\n",
    "    output = layers.Dense(units=4, \n",
    "                            activation='softmax', \n",
    "                            name='output')(x)\n",
    "\n",
    "\n",
    "    model = Model(input_layer, output)\n",
    "        \n",
    "    F_1_macro = tfa.metrics.f_scores.F1Score(num_classes=4, average=\"macro\", name='f1_macro') \n",
    "    \n",
    "    model.compile(optimizer='adam', \n",
    "                    loss='categorical_crossentropy', \n",
    "                    metrics=F_1_macro)\n",
    "\n",
    "    return model\n",
    "\n",
    "model = create_model()\n",
    "model.summary()"
   ]
  },
  {
   "cell_type": "code",
   "execution_count": null,
   "metadata": {},
   "outputs": [],
   "source": [
    "# Training\n",
    "init_time = datetime.datetime.now()\n",
    "\n",
    "\n",
    "train_steps = train_gen.samples // BATCH_SIZE\n",
    "valid_steps = val_gen.samples // BATCH_SIZE\n",
    "\n",
    "early_stopping = EarlyStopping(monitor=\"val_loss\", patience=8, mode=\"min\")\n",
    "checkpoint = ModelCheckpoint(\"loss-{val_loss:.4f}.h5\", monitor=\"val_loss\", verbose=0, \n",
    "                             save_best_only=True, save_weights_only=True, mode=\"min\")\n",
    "learning_rate_reduction = ReduceLROnPlateau(monitor=\"val_loss\", factor=0.1, patience=4, \n",
    "                                            min_lr=1e-7, verbose=1, mode=\"min\")\n",
    "\n",
    "\n",
    "history = model.fit(\n",
    "    train_gen,\n",
    "    validation_data=val_gen,\n",
    "    batch_size=BATCH_SIZE,\n",
    "    epochs=EPOCHS,\n",
    "    steps_per_epoch=train_steps,\n",
    "    validation_steps=valid_steps,\n",
    "    callbacks=[\n",
    "                checkpoint, \n",
    "                early_stopping, \n",
    "                learning_rate_reduction],\n",
    "    verbose=1,\n",
    "    )\n",
    "\n",
    "requared_time = datetime.datetime.now() - init_time\n",
    "print(f'\\nRequired time:  {str(requared_time)}\\n')"
   ]
  },
  {
   "cell_type": "code",
   "execution_count": null,
   "metadata": {},
   "outputs": [],
   "source": [
    "history_df = pd.DataFrame(history.history)\n",
    "history_df.loc[0:, ['loss', 'val_loss']].plot()\n",
    "print(\"Minimum Validation Loss: {:0.4f}\".format(history_df['val_loss'].min()));"
   ]
  },
  {
   "cell_type": "code",
   "execution_count": null,
   "metadata": {},
   "outputs": [],
   "source": [
    "test_steps = test_gen.samples // BATCH_SIZE\n",
    "\n",
    "test_loss, test_acc = model.evaluate(test_gen, steps=test_steps)\n",
    "print('\\naccuracy:', test_acc, 'loss: ',test_loss)"
   ]
  },
  {
   "cell_type": "code",
   "execution_count": null,
   "metadata": {},
   "outputs": [],
   "source": [
    "predict = model.predict(test_gen, steps=test_steps)\n",
    "y_hat = np.argmax(predict, axis=1)\n",
    "y_hat[:20]"
   ]
  },
  {
   "cell_type": "code",
   "execution_count": null,
   "metadata": {},
   "outputs": [],
   "source": [
    "test_labels_df = pd.DataFrame()\n",
    "test_labels_df[['class']] = test_data[['class']]\n",
    "\n",
    "change = {\n",
    "'0' : 0,\n",
    "'1' : 1,\n",
    "'2' : 2,\n",
    "'3' : 3,\n",
    "}\n",
    "\n",
    "test_labels_df['class'] = test_labels_df['class'].map(change)\n",
    "test_labels_df = test_labels_df[ : test_steps*BATCH_SIZE]\n",
    "\n",
    "\n",
    "y_test = np.array(test_labels_df['class'])\n",
    "y_test[:20]"
   ]
  },
  {
   "cell_type": "markdown",
   "metadata": {},
   "source": [
    "## Classification Report"
   ]
  },
  {
   "cell_type": "code",
   "execution_count": null,
   "metadata": {},
   "outputs": [],
   "source": [
    "print(classification_report(y_test, y_hat), '\\n')\n",
    "cm = confusion_matrix(y_test, y_hat)\n",
    "sns.heatmap(cm, annot=True, cmap=\"Blues\", fmt='.0f', cbar=False)"
   ]
  },
  {
   "cell_type": "code",
   "execution_count": null,
   "metadata": {},
   "outputs": [],
   "source": [
    "path = './model'\n",
    "\n",
    "if (not os.path.exists(path)):\n",
    "    os.mkdir(path)\n",
    "    \n",
    "model.save(path+'/')"
   ]
  },
  {
   "cell_type": "code",
   "execution_count": null,
   "metadata": {},
   "outputs": [],
   "source": []
  }
 ],
 "metadata": {
  "kernelspec": {
   "display_name": "Python 3 (ipykernel)",
   "language": "python",
   "name": "python3"
  },
  "language_info": {
   "codemirror_mode": {
    "name": "ipython",
    "version": 3
   },
   "file_extension": ".py",
   "mimetype": "text/x-python",
   "name": "python",
   "nbconvert_exporter": "python",
   "pygments_lexer": "ipython3",
   "version": "3.9.12"
  },
  "vscode": {
   "interpreter": {
    "hash": "46b936ff1622c326d442b837a2b71fa5dbcf20e52e3a75b5ec5a0d8bfc7f438d"
   }
  }
 },
 "nbformat": 4,
 "nbformat_minor": 2
}
